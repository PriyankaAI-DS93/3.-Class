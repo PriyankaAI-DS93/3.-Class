{
 "cells": [
  {
   "cell_type": "code",
   "execution_count": 1,
   "id": "27a7c895-69a6-44e1-ba03-99a36e1c6970",
   "metadata": {},
   "outputs": [],
   "source": [
    "class SubfieldsInAI():\n",
    "    def SubfieLds():\n",
    "        lists='Machine Learning', 'Neural Networks', 'Vision', 'Robotics', 'Speech Processing', 'Natural Language Processing'\n",
    "        print(\"Subfields in AI are:\")   \n",
    "        len(lists)\n",
    "        for temp in range(len(lists)):\n",
    "            print(lists[temp])"
   ]
  },
  {
   "cell_type": "code",
   "execution_count": 2,
   "id": "1431ea8d-a9da-42a7-94e8-f1f2fe68ea7c",
   "metadata": {},
   "outputs": [
    {
     "name": "stdout",
     "output_type": "stream",
     "text": [
      "Subfields in AI are:\n",
      "Machine Learning\n",
      "Neural Networks\n",
      "Vision\n",
      "Robotics\n",
      "Speech Processing\n",
      "Natural Language Processing\n"
     ]
    }
   ],
   "source": [
    "SubfieldsInAI.SubfieLds()"
   ]
  },
  {
   "cell_type": "code",
   "execution_count": 3,
   "id": "13808b06-5575-4148-8e2f-f25f9f58d164",
   "metadata": {},
   "outputs": [],
   "source": [
    "class OddEven():\n",
    "    def OddEven():\n",
    "        num=int(input(\"Enter a number\"))\n",
    "        if num%2==1:\n",
    "            print(num, \"is Odd number\")\n",
    "        else:\n",
    "            print(num, \"is Even number\")"
   ]
  },
  {
   "cell_type": "code",
   "execution_count": 4,
   "id": "21cbe0bf-32cd-4687-a5f0-d0b4aa5ab6a8",
   "metadata": {},
   "outputs": [
    {
     "name": "stdin",
     "output_type": "stream",
     "text": [
      "Enter a number 52452\n"
     ]
    },
    {
     "name": "stdout",
     "output_type": "stream",
     "text": [
      "52452 is Even number\n"
     ]
    }
   ],
   "source": [
    "OddEven.OddEven()"
   ]
  },
  {
   "cell_type": "code",
   "execution_count": 5,
   "id": "ff01f767-5156-4429-a345-f445cd70dbc1",
   "metadata": {},
   "outputs": [],
   "source": [
    "class EligibilityForMarriage():\n",
    "    def Eligible():\n",
    "        gender=input(\"Your Gender\")\n",
    "        age=int(input(\"Your Age\"))\n",
    "        if gender==\"Male\":\n",
    "            if age<21:\n",
    "                print(\"NOT ELIGIBLE\")\n",
    "            else:\n",
    "                print(\"ELIGIBLE\")\n",
    "        if gender==\"Female\":\n",
    "            if age<18:\n",
    "                print(\"NOT ELIGIBLE\")\n",
    "            else:\n",
    "                print(\"ELIGIBLE\")"
   ]
  },
  {
   "cell_type": "code",
   "execution_count": 6,
   "id": "695d12f8-4e2a-492a-b670-e11dc0dddfea",
   "metadata": {},
   "outputs": [
    {
     "name": "stdin",
     "output_type": "stream",
     "text": [
      "Your Gender Male\n",
      "Your Age 20\n"
     ]
    },
    {
     "name": "stdout",
     "output_type": "stream",
     "text": [
      "NOT ELIGIBLE\n"
     ]
    }
   ],
   "source": [
    "EligibilityForMarriage.Eligible()"
   ]
  },
  {
   "cell_type": "code",
   "execution_count": 7,
   "id": "2a7a3868-9c8e-4cd8-b5fa-bbd4a2467cb6",
   "metadata": {},
   "outputs": [],
   "source": [
    "class Findpercent():\n",
    "    def percentage():\n",
    "        sub1=int(input(\"Subject1=\"))\n",
    "        sub2=int(input(\"Subject2=\"))\n",
    "        sub3=int(input(\"Subject3=\"))\n",
    "        sub4=int(input(\"Subject4=\"))\n",
    "        sub5=int(input(\"Subject5=\"))\n",
    "        total=sub1+sub2+sub3+sub4+sub5\n",
    "        print(\"Total:\", total)\n",
    "        percentage=total/5\n",
    "        print(\"Percentge:\", percentage)"
   ]
  },
  {
   "cell_type": "code",
   "execution_count": 9,
   "id": "b733dc2c-0038-439e-97ff-6d98c30a94d8",
   "metadata": {},
   "outputs": [
    {
     "name": "stdin",
     "output_type": "stream",
     "text": [
      "Subject1= 98\n",
      "Subject2= 87\n",
      "Subject3= 95\n",
      "Subject4= 95\n",
      "Subject5= 93\n"
     ]
    },
    {
     "name": "stdout",
     "output_type": "stream",
     "text": [
      "Total: 468\n",
      "Percentge: 93.6\n"
     ]
    }
   ],
   "source": [
    "Findpercent.percentage()"
   ]
  },
  {
   "cell_type": "code",
   "execution_count": 10,
   "id": "f68fd44f-7fa5-481d-bf70-40096e11d08f",
   "metadata": {},
   "outputs": [],
   "source": [
    "class Traingle():\n",
    "    def traingle():\n",
    "        height=int(input(\"Height=\"))\n",
    "        breadth=int(input(\"Breadth=\"))\n",
    "        area=(height*breadth)/2\n",
    "        print(\"Area formula:(Height*Breadth)/2\")\n",
    "        print(\"Area of trainlge\", area)\n",
    "        height1=int(input(\"Height1:\"))\n",
    "        height2=int(input(\"Height2:\"))\n",
    "        breadth=int(input(\"Breadth:\"))\n",
    "        perimeter=(height1+height2+breadth)\n",
    "        print(\"Perimeter formula: Height1+Height2+Breath3\")\n",
    "        print(\"Perimeter of Traingle:\", perimeter)"
   ]
  },
  {
   "cell_type": "code",
   "execution_count": 11,
   "id": "fad6d78d-0993-455e-a227-7d966e010798",
   "metadata": {},
   "outputs": [
    {
     "name": "stdin",
     "output_type": "stream",
     "text": [
      "Height= 32\n",
      "Breadth= 34\n"
     ]
    },
    {
     "name": "stdout",
     "output_type": "stream",
     "text": [
      "Area formula:(Height*Breadth)/2\n",
      "Area of trainlge 544.0\n"
     ]
    },
    {
     "name": "stdin",
     "output_type": "stream",
     "text": [
      "Height1: 2\n",
      "Height2: 4\n",
      "Breadth: 4\n"
     ]
    },
    {
     "name": "stdout",
     "output_type": "stream",
     "text": [
      "Perimeter formula: Height1+Height2+Breath3\n",
      "Perimeter of Traingle: 10\n"
     ]
    }
   ],
   "source": [
    "Traingle.traingle()"
   ]
  },
  {
   "cell_type": "code",
   "execution_count": null,
   "id": "0642334b-e647-4534-ab9c-6522fc93e0fb",
   "metadata": {},
   "outputs": [],
   "source": []
  }
 ],
 "metadata": {
  "kernelspec": {
   "display_name": "Python 3 (ipykernel)",
   "language": "python",
   "name": "python3"
  },
  "language_info": {
   "codemirror_mode": {
    "name": "ipython",
    "version": 3
   },
   "file_extension": ".py",
   "mimetype": "text/x-python",
   "name": "python",
   "nbconvert_exporter": "python",
   "pygments_lexer": "ipython3",
   "version": "3.12.4"
  }
 },
 "nbformat": 4,
 "nbformat_minor": 5
}
